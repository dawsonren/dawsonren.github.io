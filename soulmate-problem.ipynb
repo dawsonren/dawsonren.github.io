{
 "cells": [
  {
   "cell_type": "markdown",
   "metadata": {},
   "source": [
    "# Soulmate Matching Problem\n",
    "\n",
    "Suppose you are given $N$ people, and each person has a single soulmate (suppose $N$ is even). Each round, you get to pair two people and check if they're soulmates. Is there a way to match people to minimize the number of rounds needed to match everyone?"
   ]
  },
  {
   "cell_type": "code",
   "execution_count": 39,
   "metadata": {},
   "outputs": [],
   "source": [
    "import numpy as np\n",
    "from itertools import permutations\n",
    "from math import factorial\n",
    "\n",
    "def generate_matchings_helper(remaining):\n",
    "    # number nodes 1 to n\n",
    "    # return a list of all possible matchings\n",
    "    # where each matching is a list of tuples\n",
    "    \n",
    "    # for example, n=4 should return\n",
    "    # [[(1, 2), (3, 4)], [(1, 3), (2, 4)], [(1, 4), (2, 3)]]\n",
    "    # ((1, 2), (1, 3), (1, 4), (2, 3), (2, 4), (3, 4))\n",
    "    # 2, 3, 4\n",
    "    # note that the order of the tuples within the list does not matter\n",
    "\n",
    "    if len(remaining) == 2:\n",
    "        return [[(remaining[0], remaining[1])]]\n",
    "    else:\n",
    "        result = []\n",
    "        # match first node with each other node\n",
    "        for i in range(1, len(remaining)):\n",
    "            # match first node with i-th node\n",
    "            # and recursively call the function with the remaining nodes\n",
    "            # and append the result to the list\n",
    "            result += [[(remaining[0], remaining[i])] + x for x in generate_matchings_helper(remaining[1:i] + remaining[i+1:])]\n",
    "        return result\n",
    "\n",
    "def generate_matchings(n):\n",
    "    return generate_matchings_helper(list(range(1, n+1)))\n",
    "\n",
    "def double_factorial(n):\n",
    "    # return the double factorial of n\n",
    "    if n == 1 or n == 2:\n",
    "        return n\n",
    "    else:\n",
    "        return n * double_factorial(n-2)\n",
    "\n",
    "def predicted_combinations(n):\n",
    "    return double_factorial(n - 1)"
   ]
  },
  {
   "cell_type": "code",
   "execution_count": 40,
   "metadata": {},
   "outputs": [
    {
     "name": "stdout",
     "output_type": "stream",
     "text": [
      "N: 2, predicted combinations: 1, actual combinations: 1\n",
      "N: 4, predicted combinations: 3, actual combinations: 3\n",
      "N: 6, predicted combinations: 15, actual combinations: 15\n",
      "N: 8, predicted combinations: 105, actual combinations: 105\n",
      "N: 10, predicted combinations: 945, actual combinations: 945\n"
     ]
    }
   ],
   "source": [
    "for i in range(1, 6):\n",
    "    print(f\"N: {2 * i}, predicted combinations: {predicted_combinations(2 * i)}, actual combinations: {len(generate_matchings(2 * i))}\")"
   ]
  },
  {
   "cell_type": "code",
   "execution_count": 41,
   "metadata": {},
   "outputs": [],
   "source": [
    "# a policy is an ordering of the edges\n",
    "# our question: is one policy better than another?\n",
    "\n",
    "def generate_all_edges(n):\n",
    "    # return a list of all possible edges\n",
    "    # for example, n=4 should return\n",
    "    # [(1, 2), (1, 3), (1, 4), (2, 3), (2, 4), (3, 4)]\n",
    "    return [(i, j) for i in range(1, n+1) for j in range(i+1, n+1)]\n",
    "\n",
    "def random_policy(n):\n",
    "    # return a random permutation of all edges\n",
    "    # we need to use np.randoom.permutation because generating the list of\n",
    "    # all permutations, then choosing a random one, is too slow\n",
    "    return np.random.permutation(generate_all_edges(n)).tolist()\n",
    "\n",
    "def evaluate(policy, matching):\n",
    "    already_matched = []\n",
    "    score = 0\n",
    "\n",
    "    for edge in policy:\n",
    "        if edge[0] in already_matched or edge[1] in already_matched:\n",
    "            continue\n",
    "        if (edge[0], edge[1]) in matching or (edge[1], edge[0]) in matching:\n",
    "            already_matched.append(edge[0])\n",
    "            already_matched.append(edge[1])\n",
    "        score += 1\n",
    "\n",
    "    return score\n",
    "\n",
    "def evaluate_policy(policy, matchings):\n",
    "    # return the average score of the policy\n",
    "    return sum([evaluate(policy, matching) for matching in matchings]) / len(matchings)"
   ]
  },
  {
   "cell_type": "code",
   "execution_count": 42,
   "metadata": {},
   "outputs": [],
   "source": [
    "def find_best_policy(n):\n",
    "    best_policies = None\n",
    "    best_score = np.inf\n",
    "    generated_matchings = generate_matchings(n)\n",
    "\n",
    "    for policy in permutations(generate_all_edges(n)):\n",
    "        score = evaluate_policy(policy, generated_matchings)\n",
    "\n",
    "        if score < best_score:\n",
    "            best_score = score\n",
    "            best_policies = [policy]\n",
    "        elif score == best_score:\n",
    "            best_policies.append(policy)\n",
    "\n",
    "    return best_policies\n",
    "\n",
    "def find_random_best_policy(n, num_policies):\n",
    "    best_policies = None\n",
    "    best_score = np.inf\n",
    "    generated_matchings = generate_matchings(n)\n",
    "\n",
    "    for _ in range(num_policies):\n",
    "        policy = random_policy(n)\n",
    "        score = evaluate_policy(policy, generated_matchings)\n",
    "\n",
    "        if score < best_score:\n",
    "            best_score = score\n",
    "            best_policies = [policy]\n",
    "        elif score == best_score:\n",
    "            best_policies.append(policy)\n",
    "\n",
    "    return best_policies"
   ]
  },
  {
   "cell_type": "code",
   "execution_count": 43,
   "metadata": {},
   "outputs": [
    {
     "name": "stdout",
     "output_type": "stream",
     "text": [
      "Number of best policies for n=4:  288\n",
      "Number of total policies for n=4:  720\n",
      "((1, 2), (1, 3), (1, 4), (2, 3), (2, 4), (3, 4))\n",
      "The above policy has the score  3.0\n"
     ]
    }
   ],
   "source": [
    "N = 8\n",
    "\n",
    "best_policies = find_random_best_policy(N)\n",
    "\n",
    "print(f\"Number of best policies for n=4: \", len(best_policies))\n",
    "print(f\"Number of total policies for n=4: \", factorial(N * (N - 1) // 2))\n",
    "print(best_policies[0])\n",
    "print(\"The above policy has the score \", evaluate_policy(best_policies[0], generate_matchings(N)))"
   ]
  },
  {
   "cell_type": "code",
   "execution_count": 67,
   "metadata": {},
   "outputs": [
    {
     "name": "stdout",
     "output_type": "stream",
     "text": [
      "Best policy found for n=6: [[2, 5], [2, 7], [2, 3], [5, 7], [5, 6], [4, 5], [2, 4], [1, 5], [5, 8], [4, 7], [1, 2], [1, 7], [3, 4], [7, 8], [2, 8], [4, 8], [3, 8], [2, 6], [1, 8], [6, 8], [1, 4], [3, 6], [4, 6], [1, 6], [3, 7], [1, 3], [6, 7], [3, 5]]\n",
      "The above policy has the score  10.628571428571428\n",
      "The predicted best policy should have score 24.0\n",
      "Number of total policies for n=6: 304888344611713860501504000000\n"
     ]
    }
   ],
   "source": [
    "N = 8\n",
    "\n",
    "best_policies = find_random_best_policy(N, 10000)\n",
    "\n",
    "print(f\"Best policy found for n=6:\", best_policies[0])\n",
    "print(\"The above policy has the score \", evaluate_policy(best_policies[0], generate_matchings(N)))\n",
    "print(f\"Number of total policies for n=6:\", factorial(N * (N - 1) // 2))"
   ]
  }
 ],
 "metadata": {
  "kernelspec": {
   "display_name": "ie",
   "language": "python",
   "name": "python3"
  },
  "language_info": {
   "codemirror_mode": {
    "name": "ipython",
    "version": 3
   },
   "file_extension": ".py",
   "mimetype": "text/x-python",
   "name": "python",
   "nbconvert_exporter": "python",
   "pygments_lexer": "ipython3",
   "version": "3.9.18"
  }
 },
 "nbformat": 4,
 "nbformat_minor": 2
}
